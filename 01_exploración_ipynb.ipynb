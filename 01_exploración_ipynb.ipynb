{
  "nbformat": 4,
  "nbformat_minor": 0,
  "metadata": {
    "colab": {
      "provenance": []
    },
    "kernelspec": {
      "name": "python3",
      "display_name": "Python 3"
    },
    "language_info": {
      "name": "python"
    }
  },
  "cells": [
    {
      "cell_type": "markdown",
      "source": [
        "# Exploración de datos\n",
        "FEDERICO OCAMPO QUICENO - 1000763227\n",
        "\n",
        "JULIANA PRECIADO CARRANZA - 1002331092"
      ],
      "metadata": {
        "id": "a35F-9c-3ur7"
      }
    },
    {
      "cell_type": "code",
      "execution_count": 1,
      "metadata": {
        "id": "AE5GbOVA3r6P",
        "colab": {
          "base_uri": "https://localhost:8080/"
        },
        "outputId": "ca5554f0-cb10-4b09-afa7-2fa1ccb9b089"
      },
      "outputs": [
        {
          "output_type": "stream",
          "name": "stdout",
          "text": [
            "Drive already mounted at /content/drive; to attempt to forcibly remount, call drive.mount(\"/content/drive\", force_remount=True).\n"
          ]
        }
      ],
      "source": [
        "from google.colab import drive\n",
        "\n",
        "# Montar Google Drive\n",
        "drive.mount('/content/drive')"
      ]
    },
    {
      "cell_type": "code",
      "source": [
        "import pandas as pd\n",
        "\n",
        "# Ruta del archivo en Google Drive\n",
        "ruta = \"/content/drive/MyDrive/Introducción a inteligencia artificial/Proyecto/train.csv\"\n",
        "\n",
        "# Cargar el CSV en un DataFrame\n",
        "df = pd.read_csv(ruta)\n",
        "\n",
        "# Mostrar las primeras filas\n",
        "df.head()"
      ],
      "metadata": {
        "colab": {
          "base_uri": "https://localhost:8080/",
          "height": 411
        },
        "id": "intN9BeL5yvX",
        "outputId": "9e38fb8d-cfb0-437c-bc60-49233ae6f2cb"
      },
      "execution_count": 2,
      "outputs": [
        {
          "output_type": "execute_result",
          "data": {
            "text/plain": [
              "       ID  PERIODO_ACADEMICO            E_PRGM_ACADEMICO E_PRGM_DEPARTAMENTO  \\\n",
              "0  904256              20212                  ENFERMERIA              BOGOTÁ   \n",
              "1  645256              20212                     DERECHO           ATLANTICO   \n",
              "2  308367              20203       MERCADEO Y PUBLICIDAD              BOGOTÁ   \n",
              "3  470353              20195  ADMINISTRACION DE EMPRESAS           SANTANDER   \n",
              "4  989032              20212                  PSICOLOGIA           ANTIOQUIA   \n",
              "\n",
              "                E_VALORMATRICULAUNIVERSIDAD E_HORASSEMANATRABAJA  \\\n",
              "0  Entre 5.5 millones y menos de 7 millones    Menos de 10 horas   \n",
              "1  Entre 2.5 millones y menos de 4 millones                    0   \n",
              "2  Entre 2.5 millones y menos de 4 millones      Más de 30 horas   \n",
              "3  Entre 4 millones y menos de 5.5 millones                    0   \n",
              "4  Entre 2.5 millones y menos de 4 millones  Entre 21 y 30 horas   \n",
              "\n",
              "  F_ESTRATOVIVIENDA F_TIENEINTERNET                    F_EDUCACIONPADRE  \\\n",
              "0         Estrato 3              Si    Técnica o tecnológica incompleta   \n",
              "1         Estrato 3              No      Técnica o tecnológica completa   \n",
              "2         Estrato 3              Si  Secundaria (Bachillerato) completa   \n",
              "3         Estrato 4              Si                             No sabe   \n",
              "4         Estrato 3              Si                   Primaria completa   \n",
              "\n",
              "  F_TIENELAVADORA  ... E_PRIVADO_LIBERTAD E_PAGOMATRICULAPROPIO  \\\n",
              "0              Si  ...                  N                    No   \n",
              "1              Si  ...                  N                    No   \n",
              "2              Si  ...                  N                    No   \n",
              "3              Si  ...                  N                    No   \n",
              "4              Si  ...                  N                    No   \n",
              "\n",
              "  F_TIENECOMPUTADOR F_TIENEINTERNET.1                    F_EDUCACIONMADRE  \\\n",
              "0                Si                Si                           Postgrado   \n",
              "1                Si                No    Técnica o tecnológica incompleta   \n",
              "2                No                Si  Secundaria (Bachillerato) completa   \n",
              "3                Si                Si  Secundaria (Bachillerato) completa   \n",
              "4                Si                Si                   Primaria completa   \n",
              "\n",
              "  RENDIMIENTO_GLOBAL INDICADOR_1  INDICADOR_2  INDICADOR_3  INDICADOR_4  \n",
              "0         medio-alto       0.322        0.208        0.310        0.267  \n",
              "1               bajo       0.311        0.215        0.292        0.264  \n",
              "2               bajo       0.297        0.214        0.305        0.264  \n",
              "3               alto       0.485        0.172        0.252        0.190  \n",
              "4         medio-bajo       0.316        0.232        0.285        0.294  \n",
              "\n",
              "[5 rows x 21 columns]"
            ],
            "text/html": [
              "\n",
              "  <div id=\"df-2a4152bd-8449-47bd-85e1-dd1e9e730331\" class=\"colab-df-container\">\n",
              "    <div>\n",
              "<style scoped>\n",
              "    .dataframe tbody tr th:only-of-type {\n",
              "        vertical-align: middle;\n",
              "    }\n",
              "\n",
              "    .dataframe tbody tr th {\n",
              "        vertical-align: top;\n",
              "    }\n",
              "\n",
              "    .dataframe thead th {\n",
              "        text-align: right;\n",
              "    }\n",
              "</style>\n",
              "<table border=\"1\" class=\"dataframe\">\n",
              "  <thead>\n",
              "    <tr style=\"text-align: right;\">\n",
              "      <th></th>\n",
              "      <th>ID</th>\n",
              "      <th>PERIODO_ACADEMICO</th>\n",
              "      <th>E_PRGM_ACADEMICO</th>\n",
              "      <th>E_PRGM_DEPARTAMENTO</th>\n",
              "      <th>E_VALORMATRICULAUNIVERSIDAD</th>\n",
              "      <th>E_HORASSEMANATRABAJA</th>\n",
              "      <th>F_ESTRATOVIVIENDA</th>\n",
              "      <th>F_TIENEINTERNET</th>\n",
              "      <th>F_EDUCACIONPADRE</th>\n",
              "      <th>F_TIENELAVADORA</th>\n",
              "      <th>...</th>\n",
              "      <th>E_PRIVADO_LIBERTAD</th>\n",
              "      <th>E_PAGOMATRICULAPROPIO</th>\n",
              "      <th>F_TIENECOMPUTADOR</th>\n",
              "      <th>F_TIENEINTERNET.1</th>\n",
              "      <th>F_EDUCACIONMADRE</th>\n",
              "      <th>RENDIMIENTO_GLOBAL</th>\n",
              "      <th>INDICADOR_1</th>\n",
              "      <th>INDICADOR_2</th>\n",
              "      <th>INDICADOR_3</th>\n",
              "      <th>INDICADOR_4</th>\n",
              "    </tr>\n",
              "  </thead>\n",
              "  <tbody>\n",
              "    <tr>\n",
              "      <th>0</th>\n",
              "      <td>904256</td>\n",
              "      <td>20212</td>\n",
              "      <td>ENFERMERIA</td>\n",
              "      <td>BOGOTÁ</td>\n",
              "      <td>Entre 5.5 millones y menos de 7 millones</td>\n",
              "      <td>Menos de 10 horas</td>\n",
              "      <td>Estrato 3</td>\n",
              "      <td>Si</td>\n",
              "      <td>Técnica o tecnológica incompleta</td>\n",
              "      <td>Si</td>\n",
              "      <td>...</td>\n",
              "      <td>N</td>\n",
              "      <td>No</td>\n",
              "      <td>Si</td>\n",
              "      <td>Si</td>\n",
              "      <td>Postgrado</td>\n",
              "      <td>medio-alto</td>\n",
              "      <td>0.322</td>\n",
              "      <td>0.208</td>\n",
              "      <td>0.310</td>\n",
              "      <td>0.267</td>\n",
              "    </tr>\n",
              "    <tr>\n",
              "      <th>1</th>\n",
              "      <td>645256</td>\n",
              "      <td>20212</td>\n",
              "      <td>DERECHO</td>\n",
              "      <td>ATLANTICO</td>\n",
              "      <td>Entre 2.5 millones y menos de 4 millones</td>\n",
              "      <td>0</td>\n",
              "      <td>Estrato 3</td>\n",
              "      <td>No</td>\n",
              "      <td>Técnica o tecnológica completa</td>\n",
              "      <td>Si</td>\n",
              "      <td>...</td>\n",
              "      <td>N</td>\n",
              "      <td>No</td>\n",
              "      <td>Si</td>\n",
              "      <td>No</td>\n",
              "      <td>Técnica o tecnológica incompleta</td>\n",
              "      <td>bajo</td>\n",
              "      <td>0.311</td>\n",
              "      <td>0.215</td>\n",
              "      <td>0.292</td>\n",
              "      <td>0.264</td>\n",
              "    </tr>\n",
              "    <tr>\n",
              "      <th>2</th>\n",
              "      <td>308367</td>\n",
              "      <td>20203</td>\n",
              "      <td>MERCADEO Y PUBLICIDAD</td>\n",
              "      <td>BOGOTÁ</td>\n",
              "      <td>Entre 2.5 millones y menos de 4 millones</td>\n",
              "      <td>Más de 30 horas</td>\n",
              "      <td>Estrato 3</td>\n",
              "      <td>Si</td>\n",
              "      <td>Secundaria (Bachillerato) completa</td>\n",
              "      <td>Si</td>\n",
              "      <td>...</td>\n",
              "      <td>N</td>\n",
              "      <td>No</td>\n",
              "      <td>No</td>\n",
              "      <td>Si</td>\n",
              "      <td>Secundaria (Bachillerato) completa</td>\n",
              "      <td>bajo</td>\n",
              "      <td>0.297</td>\n",
              "      <td>0.214</td>\n",
              "      <td>0.305</td>\n",
              "      <td>0.264</td>\n",
              "    </tr>\n",
              "    <tr>\n",
              "      <th>3</th>\n",
              "      <td>470353</td>\n",
              "      <td>20195</td>\n",
              "      <td>ADMINISTRACION DE EMPRESAS</td>\n",
              "      <td>SANTANDER</td>\n",
              "      <td>Entre 4 millones y menos de 5.5 millones</td>\n",
              "      <td>0</td>\n",
              "      <td>Estrato 4</td>\n",
              "      <td>Si</td>\n",
              "      <td>No sabe</td>\n",
              "      <td>Si</td>\n",
              "      <td>...</td>\n",
              "      <td>N</td>\n",
              "      <td>No</td>\n",
              "      <td>Si</td>\n",
              "      <td>Si</td>\n",
              "      <td>Secundaria (Bachillerato) completa</td>\n",
              "      <td>alto</td>\n",
              "      <td>0.485</td>\n",
              "      <td>0.172</td>\n",
              "      <td>0.252</td>\n",
              "      <td>0.190</td>\n",
              "    </tr>\n",
              "    <tr>\n",
              "      <th>4</th>\n",
              "      <td>989032</td>\n",
              "      <td>20212</td>\n",
              "      <td>PSICOLOGIA</td>\n",
              "      <td>ANTIOQUIA</td>\n",
              "      <td>Entre 2.5 millones y menos de 4 millones</td>\n",
              "      <td>Entre 21 y 30 horas</td>\n",
              "      <td>Estrato 3</td>\n",
              "      <td>Si</td>\n",
              "      <td>Primaria completa</td>\n",
              "      <td>Si</td>\n",
              "      <td>...</td>\n",
              "      <td>N</td>\n",
              "      <td>No</td>\n",
              "      <td>Si</td>\n",
              "      <td>Si</td>\n",
              "      <td>Primaria completa</td>\n",
              "      <td>medio-bajo</td>\n",
              "      <td>0.316</td>\n",
              "      <td>0.232</td>\n",
              "      <td>0.285</td>\n",
              "      <td>0.294</td>\n",
              "    </tr>\n",
              "  </tbody>\n",
              "</table>\n",
              "<p>5 rows × 21 columns</p>\n",
              "</div>\n",
              "    <div class=\"colab-df-buttons\">\n",
              "\n",
              "  <div class=\"colab-df-container\">\n",
              "    <button class=\"colab-df-convert\" onclick=\"convertToInteractive('df-2a4152bd-8449-47bd-85e1-dd1e9e730331')\"\n",
              "            title=\"Convert this dataframe to an interactive table.\"\n",
              "            style=\"display:none;\">\n",
              "\n",
              "  <svg xmlns=\"http://www.w3.org/2000/svg\" height=\"24px\" viewBox=\"0 -960 960 960\">\n",
              "    <path d=\"M120-120v-720h720v720H120Zm60-500h600v-160H180v160Zm220 220h160v-160H400v160Zm0 220h160v-160H400v160ZM180-400h160v-160H180v160Zm440 0h160v-160H620v160ZM180-180h160v-160H180v160Zm440 0h160v-160H620v160Z\"/>\n",
              "  </svg>\n",
              "    </button>\n",
              "\n",
              "  <style>\n",
              "    .colab-df-container {\n",
              "      display:flex;\n",
              "      gap: 12px;\n",
              "    }\n",
              "\n",
              "    .colab-df-convert {\n",
              "      background-color: #E8F0FE;\n",
              "      border: none;\n",
              "      border-radius: 50%;\n",
              "      cursor: pointer;\n",
              "      display: none;\n",
              "      fill: #1967D2;\n",
              "      height: 32px;\n",
              "      padding: 0 0 0 0;\n",
              "      width: 32px;\n",
              "    }\n",
              "\n",
              "    .colab-df-convert:hover {\n",
              "      background-color: #E2EBFA;\n",
              "      box-shadow: 0px 1px 2px rgba(60, 64, 67, 0.3), 0px 1px 3px 1px rgba(60, 64, 67, 0.15);\n",
              "      fill: #174EA6;\n",
              "    }\n",
              "\n",
              "    .colab-df-buttons div {\n",
              "      margin-bottom: 4px;\n",
              "    }\n",
              "\n",
              "    [theme=dark] .colab-df-convert {\n",
              "      background-color: #3B4455;\n",
              "      fill: #D2E3FC;\n",
              "    }\n",
              "\n",
              "    [theme=dark] .colab-df-convert:hover {\n",
              "      background-color: #434B5C;\n",
              "      box-shadow: 0px 1px 3px 1px rgba(0, 0, 0, 0.15);\n",
              "      filter: drop-shadow(0px 1px 2px rgba(0, 0, 0, 0.3));\n",
              "      fill: #FFFFFF;\n",
              "    }\n",
              "  </style>\n",
              "\n",
              "    <script>\n",
              "      const buttonEl =\n",
              "        document.querySelector('#df-2a4152bd-8449-47bd-85e1-dd1e9e730331 button.colab-df-convert');\n",
              "      buttonEl.style.display =\n",
              "        google.colab.kernel.accessAllowed ? 'block' : 'none';\n",
              "\n",
              "      async function convertToInteractive(key) {\n",
              "        const element = document.querySelector('#df-2a4152bd-8449-47bd-85e1-dd1e9e730331');\n",
              "        const dataTable =\n",
              "          await google.colab.kernel.invokeFunction('convertToInteractive',\n",
              "                                                    [key], {});\n",
              "        if (!dataTable) return;\n",
              "\n",
              "        const docLinkHtml = 'Like what you see? Visit the ' +\n",
              "          '<a target=\"_blank\" href=https://colab.research.google.com/notebooks/data_table.ipynb>data table notebook</a>'\n",
              "          + ' to learn more about interactive tables.';\n",
              "        element.innerHTML = '';\n",
              "        dataTable['output_type'] = 'display_data';\n",
              "        await google.colab.output.renderOutput(dataTable, element);\n",
              "        const docLink = document.createElement('div');\n",
              "        docLink.innerHTML = docLinkHtml;\n",
              "        element.appendChild(docLink);\n",
              "      }\n",
              "    </script>\n",
              "  </div>\n",
              "\n",
              "\n",
              "    <div id=\"df-b9d02d38-92ca-43d2-9973-4f3f631bb745\">\n",
              "      <button class=\"colab-df-quickchart\" onclick=\"quickchart('df-b9d02d38-92ca-43d2-9973-4f3f631bb745')\"\n",
              "                title=\"Suggest charts\"\n",
              "                style=\"display:none;\">\n",
              "\n",
              "<svg xmlns=\"http://www.w3.org/2000/svg\" height=\"24px\"viewBox=\"0 0 24 24\"\n",
              "     width=\"24px\">\n",
              "    <g>\n",
              "        <path d=\"M19 3H5c-1.1 0-2 .9-2 2v14c0 1.1.9 2 2 2h14c1.1 0 2-.9 2-2V5c0-1.1-.9-2-2-2zM9 17H7v-7h2v7zm4 0h-2V7h2v10zm4 0h-2v-4h2v4z\"/>\n",
              "    </g>\n",
              "</svg>\n",
              "      </button>\n",
              "\n",
              "<style>\n",
              "  .colab-df-quickchart {\n",
              "      --bg-color: #E8F0FE;\n",
              "      --fill-color: #1967D2;\n",
              "      --hover-bg-color: #E2EBFA;\n",
              "      --hover-fill-color: #174EA6;\n",
              "      --disabled-fill-color: #AAA;\n",
              "      --disabled-bg-color: #DDD;\n",
              "  }\n",
              "\n",
              "  [theme=dark] .colab-df-quickchart {\n",
              "      --bg-color: #3B4455;\n",
              "      --fill-color: #D2E3FC;\n",
              "      --hover-bg-color: #434B5C;\n",
              "      --hover-fill-color: #FFFFFF;\n",
              "      --disabled-bg-color: #3B4455;\n",
              "      --disabled-fill-color: #666;\n",
              "  }\n",
              "\n",
              "  .colab-df-quickchart {\n",
              "    background-color: var(--bg-color);\n",
              "    border: none;\n",
              "    border-radius: 50%;\n",
              "    cursor: pointer;\n",
              "    display: none;\n",
              "    fill: var(--fill-color);\n",
              "    height: 32px;\n",
              "    padding: 0;\n",
              "    width: 32px;\n",
              "  }\n",
              "\n",
              "  .colab-df-quickchart:hover {\n",
              "    background-color: var(--hover-bg-color);\n",
              "    box-shadow: 0 1px 2px rgba(60, 64, 67, 0.3), 0 1px 3px 1px rgba(60, 64, 67, 0.15);\n",
              "    fill: var(--button-hover-fill-color);\n",
              "  }\n",
              "\n",
              "  .colab-df-quickchart-complete:disabled,\n",
              "  .colab-df-quickchart-complete:disabled:hover {\n",
              "    background-color: var(--disabled-bg-color);\n",
              "    fill: var(--disabled-fill-color);\n",
              "    box-shadow: none;\n",
              "  }\n",
              "\n",
              "  .colab-df-spinner {\n",
              "    border: 2px solid var(--fill-color);\n",
              "    border-color: transparent;\n",
              "    border-bottom-color: var(--fill-color);\n",
              "    animation:\n",
              "      spin 1s steps(1) infinite;\n",
              "  }\n",
              "\n",
              "  @keyframes spin {\n",
              "    0% {\n",
              "      border-color: transparent;\n",
              "      border-bottom-color: var(--fill-color);\n",
              "      border-left-color: var(--fill-color);\n",
              "    }\n",
              "    20% {\n",
              "      border-color: transparent;\n",
              "      border-left-color: var(--fill-color);\n",
              "      border-top-color: var(--fill-color);\n",
              "    }\n",
              "    30% {\n",
              "      border-color: transparent;\n",
              "      border-left-color: var(--fill-color);\n",
              "      border-top-color: var(--fill-color);\n",
              "      border-right-color: var(--fill-color);\n",
              "    }\n",
              "    40% {\n",
              "      border-color: transparent;\n",
              "      border-right-color: var(--fill-color);\n",
              "      border-top-color: var(--fill-color);\n",
              "    }\n",
              "    60% {\n",
              "      border-color: transparent;\n",
              "      border-right-color: var(--fill-color);\n",
              "    }\n",
              "    80% {\n",
              "      border-color: transparent;\n",
              "      border-right-color: var(--fill-color);\n",
              "      border-bottom-color: var(--fill-color);\n",
              "    }\n",
              "    90% {\n",
              "      border-color: transparent;\n",
              "      border-bottom-color: var(--fill-color);\n",
              "    }\n",
              "  }\n",
              "</style>\n",
              "\n",
              "      <script>\n",
              "        async function quickchart(key) {\n",
              "          const quickchartButtonEl =\n",
              "            document.querySelector('#' + key + ' button');\n",
              "          quickchartButtonEl.disabled = true;  // To prevent multiple clicks.\n",
              "          quickchartButtonEl.classList.add('colab-df-spinner');\n",
              "          try {\n",
              "            const charts = await google.colab.kernel.invokeFunction(\n",
              "                'suggestCharts', [key], {});\n",
              "          } catch (error) {\n",
              "            console.error('Error during call to suggestCharts:', error);\n",
              "          }\n",
              "          quickchartButtonEl.classList.remove('colab-df-spinner');\n",
              "          quickchartButtonEl.classList.add('colab-df-quickchart-complete');\n",
              "        }\n",
              "        (() => {\n",
              "          let quickchartButtonEl =\n",
              "            document.querySelector('#df-b9d02d38-92ca-43d2-9973-4f3f631bb745 button');\n",
              "          quickchartButtonEl.style.display =\n",
              "            google.colab.kernel.accessAllowed ? 'block' : 'none';\n",
              "        })();\n",
              "      </script>\n",
              "    </div>\n",
              "\n",
              "    </div>\n",
              "  </div>\n"
            ],
            "application/vnd.google.colaboratory.intrinsic+json": {
              "type": "dataframe",
              "variable_name": "df"
            }
          },
          "metadata": {},
          "execution_count": 2
        }
      ]
    },
    {
      "cell_type": "code",
      "source": [
        "#Categorías por columnas\n",
        "categ = df.select_dtypes(include=\"object\").columns\n",
        "\n",
        "print(\"Categorías por columnass:\\n\")\n",
        "for col in categ:\n",
        "    print(f\"{col}: {df[col].nunique()} categorías únicas\")"
      ],
      "metadata": {
        "colab": {
          "base_uri": "https://localhost:8080/"
        },
        "id": "_CNRUgnOA2jC",
        "outputId": "b4fe2588-4280-42c5-f454-7e3e70229264"
      },
      "execution_count": 17,
      "outputs": [
        {
          "output_type": "stream",
          "name": "stdout",
          "text": [
            "Categorías por columnass:\n",
            "\n",
            "E_PRGM_ACADEMICO: 948 categorías únicas\n",
            "E_PRGM_DEPARTAMENTO: 31 categorías únicas\n",
            "E_VALORMATRICULAUNIVERSIDAD: 8 categorías únicas\n",
            "E_HORASSEMANATRABAJA: 5 categorías únicas\n",
            "F_ESTRATOVIVIENDA: 7 categorías únicas\n",
            "F_TIENEINTERNET: 2 categorías únicas\n",
            "F_EDUCACIONPADRE: 12 categorías únicas\n",
            "F_TIENELAVADORA: 2 categorías únicas\n",
            "F_TIENEAUTOMOVIL: 2 categorías únicas\n",
            "E_PRIVADO_LIBERTAD: 2 categorías únicas\n",
            "E_PAGOMATRICULAPROPIO: 2 categorías únicas\n",
            "F_TIENECOMPUTADOR: 2 categorías únicas\n",
            "F_TIENEINTERNET.1: 2 categorías únicas\n",
            "F_EDUCACIONMADRE: 12 categorías únicas\n",
            "RENDIMIENTO_GLOBAL: 4 categorías únicas\n"
          ]
        }
      ]
    },
    {
      "cell_type": "code",
      "source": [
        "# tipos de datos por columna\n",
        "print(\"Shape (filas, columnas):\", df.shape)\n",
        "print(\"\\nColumnas:\")\n",
        "for i, col in enumerate(df.columns):\n",
        "    print(f\"{i+1:02d}. {col}\")\n",
        "print(\"\\n\\nTipos de datos por columna:\")\n",
        "print(df.dtypes)"
      ],
      "metadata": {
        "colab": {
          "base_uri": "https://localhost:8080/"
        },
        "id": "wMlWoi9z6ZSv",
        "outputId": "baacf767-20bf-4a32-ad6c-f40b9c786d25"
      },
      "execution_count": 3,
      "outputs": [
        {
          "output_type": "stream",
          "name": "stdout",
          "text": [
            "Shape (filas, columnas): (692500, 21)\n",
            "\n",
            "Columnas:\n",
            "01. ID\n",
            "02. PERIODO_ACADEMICO\n",
            "03. E_PRGM_ACADEMICO\n",
            "04. E_PRGM_DEPARTAMENTO\n",
            "05. E_VALORMATRICULAUNIVERSIDAD\n",
            "06. E_HORASSEMANATRABAJA\n",
            "07. F_ESTRATOVIVIENDA\n",
            "08. F_TIENEINTERNET\n",
            "09. F_EDUCACIONPADRE\n",
            "10. F_TIENELAVADORA\n",
            "11. F_TIENEAUTOMOVIL\n",
            "12. E_PRIVADO_LIBERTAD\n",
            "13. E_PAGOMATRICULAPROPIO\n",
            "14. F_TIENECOMPUTADOR\n",
            "15. F_TIENEINTERNET.1\n",
            "16. F_EDUCACIONMADRE\n",
            "17. RENDIMIENTO_GLOBAL\n",
            "18. INDICADOR_1\n",
            "19. INDICADOR_2\n",
            "20. INDICADOR_3\n",
            "21. INDICADOR_4\n",
            "\n",
            "\n",
            "Tipos de datos por columna:\n",
            "ID                               int64\n",
            "PERIODO_ACADEMICO                int64\n",
            "E_PRGM_ACADEMICO                object\n",
            "E_PRGM_DEPARTAMENTO             object\n",
            "E_VALORMATRICULAUNIVERSIDAD     object\n",
            "E_HORASSEMANATRABAJA            object\n",
            "F_ESTRATOVIVIENDA               object\n",
            "F_TIENEINTERNET                 object\n",
            "F_EDUCACIONPADRE                object\n",
            "F_TIENELAVADORA                 object\n",
            "F_TIENEAUTOMOVIL                object\n",
            "E_PRIVADO_LIBERTAD              object\n",
            "E_PAGOMATRICULAPROPIO           object\n",
            "F_TIENECOMPUTADOR               object\n",
            "F_TIENEINTERNET.1               object\n",
            "F_EDUCACIONMADRE                object\n",
            "RENDIMIENTO_GLOBAL              object\n",
            "INDICADOR_1                    float64\n",
            "INDICADOR_2                    float64\n",
            "INDICADOR_3                    float64\n",
            "INDICADOR_4                    float64\n",
            "dtype: object\n"
          ]
        }
      ]
    },
    {
      "cell_type": "code",
      "source": [
        "import matplotlib.pyplot as plt\n",
        "\n",
        "# Contar los tipos de datos\n",
        "tipos = df.dtypes.value_counts()\n",
        "\n",
        "# Crear gráfico de barras\n",
        "plt.figure(figsize=(6,4))\n",
        "tipos.plot(kind='bar', color='skyblue', edgecolor='black')\n",
        "\n",
        "plt.title(\"Distribución de tipos de datos en las columnas\", fontsize=14)\n",
        "plt.xlabel(\"Tipo de dato\")\n",
        "plt.ylabel(\"Número de columnas\")\n",
        "plt.xticks(rotation=45)\n",
        "plt.show()"
      ],
      "metadata": {
        "colab": {
          "base_uri": "https://localhost:8080/",
          "height": 443
        },
        "id": "2qu1juMy6x8t",
        "outputId": "14bfc003-8a2d-4054-a375-f6cc7e0c06e7"
      },
      "execution_count": 4,
      "outputs": [
        {
          "output_type": "display_data",
          "data": {
            "text/plain": [
              "<Figure size 600x400 with 1 Axes>"
            ],
            "image/png": "[encoded data removed]"
          },
          "metadata": {}
        }
      ]
    },
    {
      "cell_type": "code",
      "source": [
        "# valores nulos y duplicados\n",
        "\n",
        "# Conteo de valores nulos por columna\n",
        "print(\"Valores nulos por columna:\\n\")\n",
        "print(df.isnull().sum())\n",
        "\n",
        "# Verificacion de filas duplicadas\n",
        "duplicados = df.duplicated().sum()\n",
        "print(f\"\\nNúmero de filas duplicadas: {duplicados}\")"
      ],
      "metadata": {
        "colab": {
          "base_uri": "https://localhost:8080/"
        },
        "id": "LqMlycZd7UxY",
        "outputId": "36634975-2545-4b73-8049-3a1baadd9c41"
      },
      "execution_count": 5,
      "outputs": [
        {
          "output_type": "stream",
          "name": "stdout",
          "text": [
            "Valores nulos por columna:\n",
            "\n",
            "ID                                 0\n",
            "PERIODO_ACADEMICO                  0\n",
            "E_PRGM_ACADEMICO                   0\n",
            "E_PRGM_DEPARTAMENTO                0\n",
            "E_VALORMATRICULAUNIVERSIDAD     6287\n",
            "E_HORASSEMANATRABAJA           30857\n",
            "F_ESTRATOVIVIENDA              32137\n",
            "F_TIENEINTERNET                26629\n",
            "F_EDUCACIONPADRE               23178\n",
            "F_TIENELAVADORA                39773\n",
            "F_TIENEAUTOMOVIL               43623\n",
            "E_PRIVADO_LIBERTAD                 0\n",
            "E_PAGOMATRICULAPROPIO           6498\n",
            "F_TIENECOMPUTADOR              38103\n",
            "F_TIENEINTERNET.1              26629\n",
            "F_EDUCACIONMADRE               23664\n",
            "RENDIMIENTO_GLOBAL                 0\n",
            "INDICADOR_1                        0\n",
            "INDICADOR_2                        0\n",
            "INDICADOR_3                        0\n",
            "INDICADOR_4                        0\n",
            "dtype: int64\n",
            "\n",
            "Número de filas duplicadas: 0\n"
          ]
        }
      ]
    },
    {
      "cell_type": "code",
      "source": [
        "# Distribución en números por columna\n",
        "columna = \"E_PRGM_ACADEMICO\"\n",
        "\n",
        "conteo = df[columna].value_counts()\n",
        "print(f\"Distribución de {columna}:\\n\")\n",
        "print(conteo)"
      ],
      "metadata": {
        "colab": {
          "base_uri": "https://localhost:8080/"
        },
        "id": "QTYxuNqR78Ob",
        "outputId": "83d27b32-ce52-4382-92c5-467329730785"
      },
      "execution_count": 10,
      "outputs": [
        {
          "output_type": "stream",
          "name": "stdout",
          "text": [
            "Distribución de E_PRGM_ACADEMICO:\n",
            "\n",
            "E_PRGM_ACADEMICO\n",
            "DERECHO                                                   53244\n",
            "ADMINISTRACION DE EMPRESAS                                51902\n",
            "CONTADURIA PUBLICA                                        39664\n",
            "PSICOLOGIA                                                31932\n",
            "INGENIERIA INDUSTRIAL                                     28481\n",
            "                                                          ...  \n",
            "DEPORTE Y ACTIVIDADA FISICA                                   1\n",
            "QUIMICA Y FARMACIA                                            1\n",
            "LICENCIATURA EN EDUCACON FISICA, RECREACION Y DEPORTES        1\n",
            "COMUNICACIÓN SOCIAL Y PERIODISMO                              1\n",
            "PROFESIONAL EN INVESTIGACIÓN CRIMINAL                         1\n",
            "Name: count, Length: 948, dtype: int64\n"
          ]
        }
      ]
    },
    {
      "cell_type": "code",
      "source": [
        "# Distribución en números por columna\n",
        "columna = \"F_ESTRATOVIVIENDA\"\n",
        "\n",
        "conteo = df[columna].value_counts()\n",
        "print(f\"Distribución de {columna}:\\n\")\n",
        "print(conteo)"
      ],
      "metadata": {
        "colab": {
          "base_uri": "https://localhost:8080/"
        },
        "id": "JwYZ6nYi_hXv",
        "outputId": "e44f1e96-4dac-414e-8134-83ec63a214a5"
      },
      "execution_count": 13,
      "outputs": [
        {
          "output_type": "stream",
          "name": "stdout",
          "text": [
            "Distribución de F_ESTRATOVIVIENDA:\n",
            "\n",
            "F_ESTRATOVIVIENDA\n",
            "Estrato 2      232671\n",
            "Estrato 3      210685\n",
            "Estrato 1      111991\n",
            "Estrato 4       65514\n",
            "Estrato 5       23608\n",
            "Estrato 6       12605\n",
            "Sin Estrato      3289\n",
            "Name: count, dtype: int64\n"
          ]
        }
      ]
    },
    {
      "cell_type": "code",
      "source": [
        "# Distribución en números por columna\n",
        "columna = \"E_PRIVADO_LIBERTAD\"\n",
        "\n",
        "conteo = df[columna].value_counts()\n",
        "print(f\"Distribución de {columna}:\\n\")\n",
        "print(conteo)"
      ],
      "metadata": {
        "colab": {
          "base_uri": "https://localhost:8080/"
        },
        "id": "HRzskYCyCvf3",
        "outputId": "c4523474-5a1a-4907-c877-bac6ec6d98c9"
      },
      "execution_count": 18,
      "outputs": [
        {
          "output_type": "stream",
          "name": "stdout",
          "text": [
            "Distribución de E_PRIVADO_LIBERTAD:\n",
            "\n",
            "E_PRIVADO_LIBERTAD\n",
            "N    692466\n",
            "S        34\n",
            "Name: count, dtype: int64\n"
          ]
        }
      ]
    },
    {
      "cell_type": "code",
      "source": [
        "# Distribución en números por columna\n",
        "columna = \"F_TIENECOMPUTADOR\"\n",
        "\n",
        "conteo = df[columna].value_counts()\n",
        "print(f\"Distribución de {columna}:\\n\")\n",
        "print(conteo)"
      ],
      "metadata": {
        "colab": {
          "base_uri": "https://localhost:8080/"
        },
        "id": "yhn_bZgQDt0e",
        "outputId": "15580ab0-a915-4ebb-c1bd-6ef7d8df91ff"
      },
      "execution_count": 20,
      "outputs": [
        {
          "output_type": "stream",
          "name": "stdout",
          "text": [
            "Distribución de F_TIENECOMPUTADOR:\n",
            "\n",
            "F_TIENECOMPUTADOR\n",
            "Si    597670\n",
            "No     56727\n",
            "Name: count, dtype: int64\n"
          ]
        }
      ]
    },
    {
      "cell_type": "code",
      "source": [
        "# Distribución en números por columna\n",
        "columna = \"E_HORASSEMANATRABAJA\"\n",
        "\n",
        "conteo = df[columna].value_counts()\n",
        "print(f\"Distribución de {columna}:\\n\")\n",
        "print(conteo)"
      ],
      "metadata": {
        "colab": {
          "base_uri": "https://localhost:8080/"
        },
        "id": "xUKsdPowD4Fv",
        "outputId": "341ecf7a-24ad-45d2-b9de-5a52450fa8e8"
      },
      "execution_count": 21,
      "outputs": [
        {
          "output_type": "stream",
          "name": "stdout",
          "text": [
            "Distribución de E_HORASSEMANATRABAJA:\n",
            "\n",
            "E_HORASSEMANATRABAJA\n",
            "Más de 30 horas        249352\n",
            "0                      116550\n",
            "Entre 11 y 20 horas    115857\n",
            "Entre 21 y 30 horas     92693\n",
            "Menos de 10 horas       87191\n",
            "Name: count, dtype: int64\n"
          ]
        }
      ]
    },
    {
      "cell_type": "code",
      "source": [
        "# Combinaciones más frecuentes de programa y departamento\n",
        "comb = df.groupby([\"E_PRGM_DEPARTAMENTO\", \"E_PRGM_ACADEMICO\"]).size().reset_index(name=\"conteo\")\n",
        "\n",
        "# Ordenar de mayor a menor\n",
        "comb_ordenado = comb.sort_values(by=\"conteo\", ascending=False)\n",
        "\n",
        "# Mostrar las 10 combinaciones más frecuentes\n",
        "print(\"10 combinaciones más frecuentes - programa académico:\\n\")\n",
        "print(comb_ordenado.head(10))"
      ],
      "metadata": {
        "colab": {
          "base_uri": "https://localhost:8080/"
        },
        "id": "RRAnHz8-BZDJ",
        "outputId": "4455d4ca-2cd4-46b7-a5e0-c073157ab9e0"
      },
      "execution_count": 22,
      "outputs": [
        {
          "output_type": "stream",
          "name": "stdout",
          "text": [
            "10 combinaciones más frecuentes - programa académico:\n",
            "\n",
            "    E_PRGM_DEPARTAMENTO                     E_PRGM_ACADEMICO  conteo\n",
            "465              BOGOTÁ           ADMINISTRACION DE EMPRESAS   21468\n",
            "494              BOGOTÁ           ADMINISTRACIÓN DE EMPRESAS   19639\n",
            "575              BOGOTÁ                              DERECHO   13051\n",
            "894              BOGOTÁ                           PSICOLOGIA   12668\n",
            "895              BOGOTÁ                           PSICOLOGÍA   12293\n",
            "564              BOGOTÁ                   CONTADURIA PUBLICA   11738\n",
            "688              BOGOTÁ                INGENIERIA INDUSTRIAL   10791\n",
            "503              BOGOTÁ  ADMINISTRACIÓN EN SALUD OCUPACIONAL   10058\n",
            "568              BOGOTÁ                   CONTADURÍA PÚBLICA    7519\n",
            "661              BOGOTÁ               INGENIERIA DE SISTEMAS    7079\n"
          ]
        }
      ]
    },
    {
      "cell_type": "code",
      "source": [
        "columna = \"E_PAGOMATRICULAPROPIO\"\n",
        "\n",
        "conteo = df[columna].value_counts(dropna=False)\n",
        "\n",
        "print(f\"Distribución de {columna}:\\n\")\n",
        "print(conteo)\n",
        "print(\"\\nDistribución porcentual:\\n\")\n",
        "print((conteo / len(df) * 100).round(2))"
      ],
      "metadata": {
        "colab": {
          "base_uri": "https://localhost:8080/"
        },
        "id": "CS3qPxX_Btjm",
        "outputId": "505435d9-854a-4920-fb86-d8ce78c876a2"
      },
      "execution_count": 16,
      "outputs": [
        {
          "output_type": "stream",
          "name": "stdout",
          "text": [
            "Distribución de E_PAGOMATRICULAPROPIO:\n",
            "\n",
            "E_PAGOMATRICULAPROPIO\n",
            "No     382201\n",
            "Si     303801\n",
            "NaN      6498\n",
            "Name: count, dtype: int64\n",
            "\n",
            "Distribución porcentual:\n",
            "\n",
            "E_PAGOMATRICULAPROPIO\n",
            "No     55.19\n",
            "Si     43.87\n",
            "NaN     0.94\n",
            "Name: count, dtype: float64\n"
          ]
        }
      ]
    }
  ]
}